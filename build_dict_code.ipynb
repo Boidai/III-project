{
 "cells": [
  {
   "cell_type": "code",
   "execution_count": 195,
   "metadata": {},
   "outputs": [
    {
     "name": "stdout",
     "output_type": "stream",
     "text": [
      "（ 中央社 記者 李淑華 台北 4 日電 ） 有學者 認為 選罷法 相關 規定 形同具文 ， 建議 刪除 。 內政部 今天 表示 ， 為 避免 任何人 以 不當競選 方式 影響 投票 ， 現行 有關 競選活動 期間 的 規定 ， 並 特別規範 該 期間 的 競選活動 ， 仍 有 維持 必要 。 聯合報 報導 ， 現行 選罷法 對 選舉活動 有 法定期間 規定 ， 最長 為 直轄市長 選舉 15 天 ， 但 其實 年底 九合一選舉 候選人 競選活動 早 在 大街小巷 展開 ， 但 執法單位 卻 視若無睹 。 台大 政治系 教授 王業立 建議 ， 相關 規定 應 與時俱進 修正 ， 否則 不如 廢除 。 內政部 今天 發布新聞 稿 回應 指出 ， 為 避免 任何人 於 選舉 投票 日前 的 重要 期間 ， 以 不當競選 方式 影響 選民 投票 意向 ， 現行 有關 競選活動 期間 的 規定 ， 並對 該 期間 的 競選活動 為 特別規範 ， 仍 有 維持 必要 。 內政部 說明 ， 公職人員選舉罷免法 第 40 條定明 各種 公職人員 選舉 競選活動 期間 ， 其 規範 之 目的 ， 係 指 在 此 期間 內應 依該 法 規定 從事 競選活動 。 例如 該法 第 56 條 規定 ， 政黨 及 任何人 ， 不得 於 競選活動 期間 之 每日 上午 7 時前 或 下午 10 時 後 ， 及 投票日 ， 從事 公開 競選 或 助選 活動 。 違者 ， 選舉 委員會 得 依同法 第 110 條第 5 項 規定 ， 處 新臺幣 50 萬元 以上 500 萬元 以下 罰鍰 。 另 同法 第 51 條定明 報紙 、 雜誌 刊登 之 競選廣告 ， 應 於 廣告 中載明 刊登 者 之 姓名 。 違反 規定 者 ， 處 報紙 、 雜誌 事業 新台幣 20 萬元 以上 200 萬元 以下 或 該 廣告費 2 倍 之 罰緩 。 內政部 表示 ， 78 年 公職人員選舉罷免法 修正 前 ， 該法 原本 對 「 期前 」 競選活動 有 限制 規定 ， 配合 解除戒嚴 後 ， 政府 認為 對 任何人 競選活動 期間 前 的 準備 行為 ， 應 採行 更 開放 、 更彈性 的 政策 ， 不宜 予以 規範 ， 因此 ， 此項 規定 予以 刪除 。 內政部 表示 ， 現行 關於 候選人 於 「 期前 」 從事 的 競選活動 ， 目前 是 視其 行為 態樣 ， 分別 依 集會遊行法 、 道路交通管理處罰條例 、 噪音管制法 、 廢棄物清理法 等 相關 法律 予以 規範 。 最後 ， 內政部 強調 ， 為 維護 選舉 公平 、 公正性 ， 避免 任何人 在 選舉 投票 日前 的 重要 期間 ， 以 不當競選 方式 影響 選民 投票 意向 ， 現行 競選活動 期間 的 規定 ， 仍 有 維持 之 必要 ， 至 活動 期間 有無 修正 延長 必要 ， 將再 徵詢 各界 意見 ， 審慎 考量 。 （ 編輯 ： 林沂鋒 ） 1071104\n"
     ]
    }
   ],
   "source": [
    "import jieba\n",
    "import jieba.analyse\n",
    "import json\n",
    "\n",
    "article = []\n",
    "jieba.load_userdict(\"keyword_dict.txt\")\n",
    "\n",
    "with open(\"E:\\Project\\printed_news_70.octet-stream\", \"r\", encoding=\"utf-8\") as f:\n",
    "    data = json.load(f)\n",
    "f.close()\n",
    "\n",
    "for a in data:\n",
    "    article.append(a[\"content\"])\n",
    "spilt = \" \".join(jieba.cut(article[3]))\n",
    "print(spilt)"
   ]
  },
  {
   "cell_type": "code",
   "execution_count": null,
   "metadata": {},
   "outputs": [],
   "source": []
  },
  {
   "cell_type": "code",
   "execution_count": 373,
   "metadata": {},
   "outputs": [],
   "source": []
  },
  {
   "cell_type": "code",
   "execution_count": 390,
   "metadata": {},
   "outputs": [],
   "source": [
    "import jieba\n",
    "import jieba.analyse\n",
    "import json\n",
    "from gensim.models import Word2Vec\n",
    "import glob, time\n",
    "import Cython\n",
    "\n",
    "article = []\n",
    "jieba.load_userdict(\"keyword_dict.txt\")\n",
    "\n",
    "for fname in glob.glob(\"E:/Project/printed_news/*\"):\n",
    "    f = open(fname, encoding=\"utf-8\")\n",
    "    data = json.load(f)\n",
    "    f.close()\n",
    "    \n",
    "    for d in data:\n",
    "        article.append(d[\"content\"])\n",
    "\n",
    "word = []\n",
    "for i in range(0,len(article)):\n",
    "    w = jieba.cut(article[i])\n",
    "    word.append(list(w))\n",
    "    "
   ]
  },
  {
   "cell_type": "code",
   "execution_count": 542,
   "metadata": {},
   "outputs": [],
   "source": [
    "a1 = jieba.cut(article[1])\n",
    "a2 = jieba.cut(article[1])\n",
    "a3 = jieba.cut(\"台北市長柯文哲將去年台北市舉辦世界大學運動會，列為政績之一。曾經協助台北市政府籌辦世大運的前台北市政府秘書長蘇麗瓊，卻透過影片支持民進黨台北市長候選人姚文智。柯文哲2014年勝選後，蘇麗瓊銜命接下世大運執行長重任，世大運風光落幕後，蘇麗瓊請辭離開市府。蘇麗瓊透過影片表示，她以一個台北人的心聲，以及和姚文智多年共事的經驗，相信姚文智會辜負當一個市長的使命，看姚參選台北市長的過程很辛苦，不需要更多人一起站出來支持姚文智。她說，姚現在遇到的情況，和她初接世大運執行長一樣，沒有人看好、媒體和網路的批評都是負面的，但仍堅持完成並做好。\")\n",
    "list1 = list(a1)\n",
    "list2 = list(a2)\n",
    "list3 = list(a3)"
   ]
  },
  {
   "cell_type": "code",
   "execution_count": 458,
   "metadata": {},
   "outputs": [],
   "source": [
    "from gensim.models import Word2Vec\n",
    "#size = 隱藏層的維度, window = 考慮前後幾個詞, min_count = 對字典做截斷，少於min_count的單詞會被丟棄, workers = 執行續個數(需安裝Cython)\n",
    "model = Word2Vec(word, size = 300, window = 5, min_count = 1, workers = 5)\n",
    "model.init_sims(replace = False)\n",
    "model.save(\"./data/model/word2vec_gensim\")\n",
    "model = Word2Vec.load(\"./data/model/word2vec_gensim\")"
   ]
  },
  {
   "cell_type": "code",
   "execution_count": null,
   "metadata": {},
   "outputs": [],
   "source": []
  },
  {
   "cell_type": "code",
   "execution_count": null,
   "metadata": {},
   "outputs": [],
   "source": []
  },
  {
   "cell_type": "code",
   "execution_count": 501,
   "metadata": {},
   "outputs": [],
   "source": [
    "list5 = [list5]"
   ]
  },
  {
   "cell_type": "code",
   "execution_count": 504,
   "metadata": {},
   "outputs": [
    {
     "name": "stderr",
     "output_type": "stream",
     "text": [
      "C:\\Users\\Big data\\AppData\\Local\\Programs\\Python\\Python36\\lib\\site-packages\\ipykernel_launcher.py:2: DeprecationWarning: Call to deprecated `iter` (Attribute will be removed in 4.0.0, use self.epochs instead).\n",
      "  \n"
     ]
    },
    {
     "data": {
      "text/plain": [
       "(0, 5)"
      ]
     },
     "execution_count": 504,
     "metadata": {},
     "output_type": "execute_result"
    }
   ],
   "source": [
    "model.build_vocab(list5, update=True)\n",
    "model.train(list5, total_examples = model.corpus_count, total_words = len(list5), epochs = model.iter)"
   ]
  },
  {
   "cell_type": "code",
   "execution_count": 505,
   "metadata": {},
   "outputs": [],
   "source": [
    "model.save(\"./data/model/word2vec_gensim\")\n",
    "model = Word2Vec.load(\"./data/model/word2vec_gensim\")"
   ]
  },
  {
   "cell_type": "code",
   "execution_count": 538,
   "metadata": {},
   "outputs": [
    {
     "name": "stdout",
     "output_type": "stream",
     "text": [
      "['國民黨', '新北市長', '候選人', '侯友宜', '(', '右', ')', '，', '及', '民進黨', '新北市長', '候選人', '蘇貞昌', '，', '上午', '參加', '新北市長選舉', '公辦辯論會', '。', '記者', '侯永全', '/', '攝影', '國民黨', '新北市長', '候選人', '侯友宜', '，', '及', '民進黨', '新北市長', '候選人', '蘇貞昌', '(', '右', ')', '，', '上午', '參加', '新北市長選舉', '公辦辯論會', '。', '記者', '侯永全', '/', '攝影', '新北市長選舉', '辯論式', '公辦', '政見發表會', '上午', '舉行', '，', '國民黨', '新北市長', '候選人', '侯友宜', '與', '民進黨', '新北市長', '候選人', '蘇貞昌', '兩人', '對', '壘', '，', '整場', '侯', '、', '蘇', '互相', '言語', '交鋒', '，', '侯友宜', '說', '，', '他', '參選', '有', '兩個', '信念', '，', '就是', '正向', '對', '奧步', '，', '正向', '不', '抹黑', '，', '能', '獲得', '選民', '認同', '，', '讓', '一個', '從', '基層', '一路', '腳踏實地', '往上', '拚', '的人', '，', '能', '當選', '直轄市長', '。', '新北市長選舉', '辯論式', '公辦政見會', '上午', '10', '時開始', '，', '侯友宜', '與', '蘇貞昌', '兩人', '在', '辯論台', '面對', '面', '。', '選委會', '抽籤', '決定', '發言', '順序', '，', '侯友宜', '先', '發言', '，', '再輪', '到', '蘇貞昌', '。', '侯友宜', '首輪', '發言', '，', '提出', '大台北', '如同', '一尾', '魚', '，', '市政', '要', '與時俱進', '，', '一棒接', '一棒', '，', '接好棒', '才是', '最重要', '，', '他當', '市長', '，', '會', '從', '既有', '基礎', '發展', '更新', '更好', '的', '新北市', '，', '大台北', '就是', '一條魚', '，', '魚頭', '是', '台北市', '、', '基隆市', '，', '魚尾', '是', '桃園市', '，', '魚身', '中間', '就是', '新北市', '，', '最重要', '的', '骨架', '血管', '就是', '三環三線', '，', '加上', '社會', '安全', '網作', '為', '魚鱗', '，', '與', '基層', '站', '在', '一起', '，', '拚', '一個', '好日子', '。', '蘇貞昌', '以', '市民', '頭家', '向', '市', '選民', '打招呼', '，', '他', '說', '，', '他', '做事', '快', '、', '省錢', '、', '有效率', '，', '還會', '爭取', '資源', '，', '新北市長', '朱立倫', '和', '侯友宜', '團隊', '八年', '做的', '太少', '太慢', '，', '請', '市民', '選', '他當', '市長', '，', '改變', '新北', '。', '蘇貞昌', '表示', '，', '中美貿易大戰', '激烈', '，', '中國大陸', '輸往', '美國', '產品', '會', '被', '課重稅', '，', '台商', '逐漸', '回流', '，', '郭台銘', '弟弟', '郭台強', '也', '是', '其中', '之一', '，', '外資', '在', '找', '新投資標的', '，', '新北', '有', '土地', '，', '有', '勞動力', '，', '交通', '有', '有', '台北', '商港', '，', '有', '桃園機場', '，', '就', '缺個', '好', '市長', '好團隊', '。', '蘇貞昌', '重提', '他', '在', '台北縣長', '任內', '的', '政績', '，', '他', '說', '，', '這是', '個', '城', '巿', '競爭', '的', '時代', '，', '巿', '長', '要', '有', '創意', '會', '規畫', '，', '他', '才是', '好巿長', '人選', '。', '蘇貞昌', '說', '，', '他', '在', '縣長', '任內', '解決', '淹水', '，', '開闢', '新市', '鎮', '，', '建立', '博物館', '，', '還設', '新', '學校', '。', '無論', '九二', '一', '救災', '，', 'SARS', '救難', '，', '台北縣', '成果', '都', '令人', '誇', '讚', '，', '64', '號', '、', '65', '號', '快速道路', '如今', '四通八達', '，', '打通', '任督二脈', '。'] \n",
      " \n",
      " ['新北市', '辯論式', '公辦', '政見發表會', '，', '提問人', '問到', '未來', '民進黨政府', '又', '要', '再', '建', '深澳燃煤電廠', '，', '兩位', '新北市長', '候選人', '如何', '因應', '，', '侯友宜', '表示', '，', '燃煤電廠', '製造', '空汙', '，', '影響', '健康', '，', '破壞', '生態', '，', '人民', '力量', '都', '站', '出來', '，', '環團', '報告', '指', '深澳燃煤電廠', '會', '造成', '500', '多人', '死亡', '，', '證明', '這是', '錯誤', '政策', '，', '民進黨', '先說', '不缺電', '，', '又', '說', '缺電', '，', '一夕之間', '，', '觀塘', '換', '深澳', '，', '政治算計', '的', '政府', '，', '怎麼', '確保', '人民', '生體', '健康', '。', '侯友宜', '說', '，', '他', '當選', '新北市長', '，', '不會', '核發', '新的', '生煤許可', '，', '他會', '支持', '蓋', '電廠', '，', '天然氣', '的', '，', '沒有', '汙染', '他', '都', '支持', '，', '也', '會', '用', '減法', '概念', '推動', '節電', '。', '蘇貞昌', '說', '，', '能源政策', '環保', '議題', '很', '嚴肅', '，', '很科學', '，', '很', '專業', '，', '專業', '讓', '專業', '決定', '判斷', '，', '不是', '選舉', '用來', '造勢', '的', '議題', '，', '深澳燃煤電廠', '現在', '已經', '不建', '了', '，', '侯友宜', '建', '也', '反對', '，', '不建', '也', '反對', '，', '環評', '都', '撤回', '，', '不', '可能', '髮夾彎', '，', '若要', '再', '蓋', '，', '還要', '重走', '程序', '。', '他', '堅持', '環境', '保護', '第一', '，', '有', '汙染', '一定', '不', '允許', '。', '【', '記者', '祁容玉', '／', '新北', '報導', '】', '新北市', '辯論式', '公辦政見會', '今天', '舉行', '，', '首輪', '發問', '人', '提問', '關於', '老人健康照護醫療', '問題', '，', '國民黨', '新北市長', '候選人', '侯友宜', '和', '民進黨', '新北市長', '候選人', '蘇貞昌', '在', '老人假牙補助', '議題', '交鋒', '，', '侯批', '蘇', '債留子孫', '，', '蘇認', '為', '侯', '不關心', '不用心', '。', '侯友宜', '說', '，', '現在', '世界衛生組織', '趨勢', '，', '顧真牙', '比', '裝假牙', '更重要', '，', '要', '推', '8020', '計畫', '，', '蘇貞昌', '的', '擴大', '假牙補助', '，', '用', '大量補貼', '方式', '，', '老人', '還', '沒有', '要裝', '整口', '假牙', '就', '換掉', '，', '拔', '真牙換', '假牙', '，', '經費', '要', '25', '億元', '，', '花了', '能夠', '達到', '實際', '效果', '嗎', '？', '蘇貞昌', '以前', '就是', '債留子孫', '。', '蘇貞昌', '表示', '，', '老人', '照護', '兩階段', '，', '針對', '健康', '老人', '開辦', '松年大學', '，', '他', '過去', '增設', '照護機構', '，', '當', '行政院長', '推', '十年長照', '。', '塗氟', '保健', '很', '好', '，', '但', '沒', '牙齒', '要塗', '在', '哪裡', '，', '一個', '是', '保健', '一個', '是', '補救', '。']\n"
     ]
    }
   ],
   "source": [
    "print(list1,\"\\n\",\"\\n\",list2)"
   ]
  },
  {
   "cell_type": "code",
   "execution_count": 392,
   "metadata": {},
   "outputs": [],
   "source": []
  },
  {
   "cell_type": "code",
   "execution_count": 467,
   "metadata": {},
   "outputs": [],
   "source": []
  },
  {
   "cell_type": "code",
   "execution_count": 383,
   "metadata": {},
   "outputs": [],
   "source": []
  },
  {
   "cell_type": "code",
   "execution_count": 454,
   "metadata": {},
   "outputs": [
    {
     "name": "stderr",
     "output_type": "stream",
     "text": [
      "C:\\Users\\Big data\\AppData\\Local\\Programs\\Python\\Python36\\lib\\site-packages\\gensim\\matutils.py:737: FutureWarning: Conversion of the second argument of issubdtype from `int` to `np.signedinteger` is deprecated. In future, it will be treated as `np.int32 == np.dtype(int).type`.\n",
      "  if np.issubdtype(vec.dtype, np.int):\n"
     ]
    },
    {
     "data": {
      "text/plain": [
       "[('自己', 0.5454468727111816),\n",
       " ('執政團隊', 0.5359835624694824),\n",
       " ('他', 0.5351921916007996),\n",
       " ('她的', 0.5293611288070679),\n",
       " ('理想', 0.5220271348953247),\n",
       " ('他的', 0.5050302743911743),\n",
       " ('做事', 0.4868752062320709),\n",
       " ('政治人物', 0.48505377769470215),\n",
       " ('柯市長', 0.47771385312080383),\n",
       " ('想法', 0.4708593487739563)]"
      ]
     },
     "execution_count": 454,
     "metadata": {},
     "output_type": "execute_result"
    }
   ],
   "source": [
    "#model.most_similar(\"word\",topn = n) 找出跟word相似度前n個詞\n",
    "model.wv.most_similar(list1,topn=10)"
   ]
  },
  {
   "cell_type": "code",
   "execution_count": 453,
   "metadata": {},
   "outputs": [
    {
     "data": {
      "text/plain": [
       "[('執政團隊', 3.437391453997278e-32),\n",
       " ('自己', 2.7754561852434506e-32),\n",
       " ('她的', 2.013439621334201e-32),\n",
       " ('他', 2.0055153200417203e-32),\n",
       " ('理想', 1.4142994077380938e-32),\n",
       " ('他的', 8.7646908565584e-33),\n",
       " ('做事', 4.624282369487582e-33),\n",
       " ('政治人物', 2.7798689175680405e-33),\n",
       " ('想法', 2.701390894326229e-33),\n",
       " ('打選戰', 2.6781201469417788e-33)]"
      ]
     },
     "execution_count": 453,
     "metadata": {},
     "output_type": "execute_result"
    }
   ],
   "source": [
    "model.wv.most_similar_cosmul(list1, topn = 10)"
   ]
  },
  {
   "cell_type": "code",
   "execution_count": 311,
   "metadata": {},
   "outputs": [
    {
     "name": "stderr",
     "output_type": "stream",
     "text": [
      "C:\\Users\\Big data\\AppData\\Local\\Programs\\Python\\Python36\\lib\\site-packages\\gensim\\matutils.py:737: FutureWarning: Conversion of the second argument of issubdtype from `int` to `np.signedinteger` is deprecated. In future, it will be treated as `np.int32 == np.dtype(int).type`.\n",
      "  if np.issubdtype(vec.dtype, np.int):\n"
     ]
    },
    {
     "data": {
      "text/plain": [
       "-0.030469865"
      ]
     },
     "execution_count": 311,
     "metadata": {},
     "output_type": "execute_result"
    }
   ],
   "source": [
    "#比對兩個詞的相似度\n",
    "model.wv.similarity(\"用輕蔑\", \"高嘉瑜\")"
   ]
  },
  {
   "cell_type": "code",
   "execution_count": 543,
   "metadata": {},
   "outputs": [
    {
     "name": "stderr",
     "output_type": "stream",
     "text": [
      "C:\\Users\\Big data\\AppData\\Local\\Programs\\Python\\Python36\\lib\\site-packages\\gensim\\matutils.py:737: FutureWarning: Conversion of the second argument of issubdtype from `int` to `np.signedinteger` is deprecated. In future, it will be treated as `np.int32 == np.dtype(int).type`.\n",
      "  if np.issubdtype(vec.dtype, np.int):\n"
     ]
    },
    {
     "data": {
      "text/plain": [
       "1.0"
      ]
     },
     "execution_count": 543,
     "metadata": {},
     "output_type": "execute_result"
    }
   ],
   "source": [
    "#比對兩個句子相似度\n",
    "model.wv.n_similarity(list1, list2)"
   ]
  },
  {
   "cell_type": "code",
   "execution_count": null,
   "metadata": {},
   "outputs": [],
   "source": []
  },
  {
   "cell_type": "code",
   "execution_count": null,
   "metadata": {},
   "outputs": [],
   "source": []
  },
  {
   "cell_type": "code",
   "execution_count": null,
   "metadata": {},
   "outputs": [],
   "source": []
  },
  {
   "cell_type": "code",
   "execution_count": null,
   "metadata": {},
   "outputs": [],
   "source": []
  },
  {
   "cell_type": "code",
   "execution_count": null,
   "metadata": {},
   "outputs": [],
   "source": [
    "\n"
   ]
  },
  {
   "cell_type": "code",
   "execution_count": null,
   "metadata": {},
   "outputs": [],
   "source": []
  },
  {
   "cell_type": "code",
   "execution_count": null,
   "metadata": {},
   "outputs": [],
   "source": []
  },
  {
   "cell_type": "code",
   "execution_count": null,
   "metadata": {},
   "outputs": [],
   "source": []
  },
  {
   "cell_type": "code",
   "execution_count": null,
   "metadata": {},
   "outputs": [],
   "source": []
  },
  {
   "cell_type": "code",
   "execution_count": null,
   "metadata": {},
   "outputs": [],
   "source": []
  },
  {
   "cell_type": "code",
   "execution_count": null,
   "metadata": {},
   "outputs": [],
   "source": []
  },
  {
   "cell_type": "code",
   "execution_count": null,
   "metadata": {},
   "outputs": [],
   "source": []
  },
  {
   "cell_type": "code",
   "execution_count": null,
   "metadata": {},
   "outputs": [],
   "source": []
  },
  {
   "cell_type": "code",
   "execution_count": null,
   "metadata": {},
   "outputs": [],
   "source": []
  }
 ],
 "metadata": {
  "kernelspec": {
   "display_name": "Python 3",
   "language": "python",
   "name": "python3"
  },
  "language_info": {
   "codemirror_mode": {
    "name": "ipython",
    "version": 3
   },
   "file_extension": ".py",
   "mimetype": "text/x-python",
   "name": "python",
   "nbconvert_exporter": "python",
   "pygments_lexer": "ipython3",
   "version": "3.6.0"
  }
 },
 "nbformat": 4,
 "nbformat_minor": 2
}
